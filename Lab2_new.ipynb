{
 "cells": [
  {
   "cell_type": "code",
   "execution_count": 70,
   "metadata": {},
   "outputs": [],
   "source": [
    "%matplotlib inline\n",
    "import matplotlib.pyplot as plt\n",
    "import seaborn\n",
    "import numpy as np\n",
    "import math\n",
    "\n",
    "def f(x,t):\n",
    "    val =  math.exp(-3*t)*math.sin(math.pi*x)*(-3 + (math.pi**2*(1 + x**4)))\n",
    "    return val\n",
    "\n",
    "def a(x):\n",
    "    return 1 + x**4\n",
    "\n",
    "def initial_u(x):\n",
    "    ret = np.zeros((len(x)))\n",
    "    for i in range(len(x)):\n",
    "        ret[i] = math.sin(math.pi*x[i])\n",
    "    return ret\n",
    "\n",
    "def u_anal(x,t):\n",
    "    sol = np.zeros((len(t),len(x)))\n",
    "    for j in range(len(t)):\n",
    "        for i in range(len(x)):\n",
    "            sol[j][i] = math.exp(-3*t[j])*math.sin(math.pi*x[i])\n",
    "    return sol"
   ]
  },
  {
   "cell_type": "code",
   "execution_count": 76,
   "metadata": {},
   "outputs": [],
   "source": [
    "h = 1/20\n",
    "nx = 20\n",
    "#tau = 1/1600 #тогда схема удовлетвряет условию Куранта и устойчива\n",
    "#nt = 1600\n",
    "tau = 1/50\n",
    "nt = 50\n",
    "X = np.linspace(0,1,nx+1)\n",
    "T = np.linspace(0,1,nt+1)\n",
    "A = np.zeros((len(X)))\n",
    "F = np.zeros((len(T),len(X)))\n",
    "for i in range(len(T)):\n",
    "    for j in range(len(X)):\n",
    "        A[j] = a(X[j])\n",
    "        F[i][j] = f(X[j],T[i])"
   ]
  },
  {
   "cell_type": "code",
   "execution_count": 77,
   "metadata": {},
   "outputs": [],
   "source": [
    "#реализуем явную схему, ищем u^{n+1}_m\n",
    "def u_ES(x, t):\n",
    "    if t == 0: #начальные условия\n",
    "        return initial_u(x)\n",
    "    uvals = [] #значение \"u\" для данного шага по времени\n",
    "    for j in range(len(x)):\n",
    "        if j == 0: # левая граница\n",
    "            uvals.append(0)\n",
    "        elif j == len(x)-1: # правая граница\n",
    "            uvals.append(0)\n",
    "        else:\n",
    "            uvals.append(U[t-1][j] + tau*A[j]/h**2*(U[t-1][j-1]-2*U[t-1][j] + U[t-1][j + 1])+ F[t-1][j]*tau)\n",
    "    return uvals\n",
    "\n",
    "U = []\n",
    "for i in range(len(T)):\n",
    "    U.append(u_ES(X, i))"
   ]
  },
  {
   "cell_type": "code",
   "execution_count": 78,
   "metadata": {},
   "outputs": [
    {
     "data": {
      "image/png": "[encoded data removed]",
      "text/plain": [
       "<Figure size 864x360 with 4 Axes>"
      ]
     },
     "metadata": {
      "needs_background": "light"
     },
     "output_type": "display_data"
    }
   ],
   "source": [
    "U_a = u_anal(X,T)\n",
    "fu, (ax1, ax2) = plt.subplots(1, 2, sharey=True)\n",
    "c1 = ax1.contourf(X, T, U, cmap=\"viridis\")\n",
    "plt.colorbar(c1, ax = ax1)\n",
    "ax1.set_title('U')\n",
    "c2 = ax2.contourf(X, T, U_a, cmap=\"viridis\")\n",
    "plt.colorbar(c2, ax = ax2)\n",
    "ax2.set_title('U_analitic')\n",
    "\n",
    "fu.set_size_inches(12, 5)\n",
    "fu.suptitle('Explicit scheme')\n",
    "plt.savefig(\"solution2_Kurant.png\")\n",
    "plt.show()"
   ]
  },
  {
   "cell_type": "code",
   "execution_count": 72,
   "metadata": {},
   "outputs": [],
   "source": [
    "#реализуем схему Кранка_Николсона\n",
    "def TMA(a,b,c,r):#прогонка\n",
    "\n",
    "    alpha = [b[0]/c[0]]\n",
    "    beta = [r[0]/c[0]]\n",
    "    n = len(r)\n",
    "    p = [0]*n\n",
    "\n",
    "    for i in range(1,n-1):\n",
    "        alpha.append(-b[i]/(a[i - 1]*alpha[i-1] - c[i]))\n",
    "        beta.append(-(r[i] - a[i - 1]*beta[i - 1])/(a[i -1]*alpha[i-1] - c[i]))\n",
    "    \n",
    "    beta.append((r[n-1] - beta[n- 2] * a[n-2])/(c[n-2] - alpha[n-2] * a[n-2]))\n",
    "    p[n-1] = beta[n - 1]\n",
    "    for i in reversed(range(n-1)):\n",
    "        p[i] = beta[i] - alpha[i]*p[i+1]\n",
    "    return p\n",
    "\n",
    "def u_KN(x,t):\n",
    "    if t == 0: #начальные условия\n",
    "        return initial_u(x)\n",
    "    uvals = [] #значение \"u\" для данного шага по времени\n",
    "    r = []\n",
    "    a = []\n",
    "    c = []\n",
    "    b = []\n",
    "    for j in range(1,len(x) - 1):\n",
    "        if j == 1: # левая граница\n",
    "            r.append(F[t-1][j]*tau*h**2 + (h**2 + A[j]*tau)*U_kn[t-1][j] + A[j]*tau*U_kn[t-1][j+1]/2 \n",
    "                     + A[j]/2*tau*U_kn[t-1][j - 1] )\n",
    "            c.append(A[j]*tau + h**2)\n",
    "            b.append(-A[j]*tau/2)\n",
    "        elif j == len(x)-2: # правая граница\n",
    "            r.append(F[t-1][j]*tau*h**2 + (h**2 + A[j]*tau)*U_kn[t-1][j] + A[j]/2*tau*U_kn[t-1][j - 1] \n",
    "                     + A[j]/2*tau*U_kn[t-1][j + 1])\n",
    "            c.append(A[j]*tau + h**2)\n",
    "            a.append(-A[j]*tau/2)\n",
    "        else:\n",
    "            r.append(F[t-1][j]*tau*h**2 + (h**2 + A[j]*tau)*U_kn[t-1][j] + A[j]/2*tau*U_kn[t-1][j - 1] \n",
    "                     + A[j]/2*tau*U_kn[t-1][j + 1])\n",
    "            c.append(A[j]*tau + h**2)\n",
    "            a.append(-A[j]*tau/2)\n",
    "            b.append(-A[j]*tau/2)\n",
    "    uvals.append(0)\n",
    "    uv = TMA(a,b,c,r)#делаем прогонку\n",
    "    for el in uv:\n",
    "        uvals.append(el)\n",
    "    uvals.append(0)\n",
    "    return uvals\n",
    "\n",
    "U_kn = np.zeros((len(T),len(X)))\n",
    "for i in range(len(T)):\n",
    "    U_kn[i] = u_KN(X,i)"
   ]
  },
  {
   "cell_type": "code",
   "execution_count": 73,
   "metadata": {},
   "outputs": [
    {
     "data": {
      "image/png": "[encoded data removed]",
      "text/plain": [
       "<Figure size 864x360 with 4 Axes>"
      ]
     },
     "metadata": {
      "needs_background": "light"
     },
     "output_type": "display_data"
    }
   ],
   "source": [
    "T1=np.zeros((5))\n",
    "for i in range(5):\n",
    "    T1[i] = T[i]\n",
    "U_a = u_anal(X,T)\n",
    "fu, (ax1, ax2) = plt.subplots(1, 2, sharey=True)\n",
    "c1 = ax1.contourf(X, T, U_kn, cmap=\"viridis\")\n",
    "plt.colorbar(c1, ax = ax1)\n",
    "ax1.set_title('U_kn')\n",
    "c2 = ax2.contourf(X, T, U_a, cmap=\"viridis\")\n",
    "plt.colorbar(c2, ax = ax2)\n",
    "ax2.set_title('U_analitic')\n",
    "\n",
    "fu.set_size_inches(12, 5)\n",
    "fu.suptitle('Krank-Nikolson scheme')\n",
    "plt.savefig(\"solutionKN.png\")\n",
    "plt.show()"
   ]
  },
  {
   "cell_type": "code",
   "execution_count": 75,
   "metadata": {},
   "outputs": [],
   "source": [
    "file = open('sol.txt', 'w')\n",
    "file.write('U_a:'+'\\n')\n",
    "for i in range(len(T)):\n",
    "    file.write(str(U_a.T[11][i])+'\\n')\n",
    "U = np.array(U)\n",
    "file.write('U:'+'\\n')\n",
    "for i in range(len(T)):\n",
    "    file.write(str(U.T[11][i])+'\\n')\n",
    "U_kn = np.array(U_kn)\n",
    "file.write('U_kn:'+'\\n')\n",
    "for i in range(len(T)):\n",
    "    file.write(str(U_kn.T[11][i])+'\\n')\n",
    "file.close()"
   ]
  }
 ],
 "metadata": {
  "kernelspec": {
   "display_name": "Python 3",
   "language": "python",
   "name": "python3"
  },
  "language_info": {
   "codemirror_mode": {
    "name": "ipython",
    "version": 3
   },
   "file_extension": ".py",
   "mimetype": "text/x-python",
   "name": "python",
   "nbconvert_exporter": "python",
   "pygments_lexer": "ipython3",
   "version": "3.7.1"
  }
 },
 "nbformat": 4,
 "nbformat_minor": 2
}
